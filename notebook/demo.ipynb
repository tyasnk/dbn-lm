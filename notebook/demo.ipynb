{
 "cells": [
  {
   "cell_type": "code",
   "execution_count": 6,
   "metadata": {},
   "outputs": [],
   "source": [
    "%matplotlib inline\n",
    "\n",
    "import matplotlib.pyplot as plt\n",
    "import numpy as np\n",
    "import pandas as pd\n",
    "from sklearn.preprocessing import MinMaxScaler\n",
    "from dbn import SupervisedDBNRegression\n",
    "np.random.seed(2018)"
   ]
  },
  {
   "cell_type": "code",
   "execution_count": 2,
   "metadata": {},
   "outputs": [],
   "source": [
    "dataset = pd.read_csv(\"data/idraud.csv\")"
   ]
  },
  {
   "cell_type": "code",
   "execution_count": 3,
   "metadata": {},
   "outputs": [],
   "source": [
    "df = dataset[\"IDR/AUD\"].values\n",
    "df = df.astype('float32')\n",
    "df = df.reshape(-1,1)\n",
    "\n",
    "len_train = int(len(df)*0.70)\n",
    "len_val = int(len(df)*0.10)\n",
    "\n",
    "train = df[0:len_train]\n",
    "validation = df[len_train:len_train+len_val]\n",
    "test = df[len_train+len_val:]\n",
    "\n",
    "scaler = MinMaxScaler(feature_range=(0, 1)).fit(train)\n",
    "train = scaler.transform(train)\n",
    "validation = scaler.transform(validation)\n",
    "test = scaler.transform(test)\n",
    "\n",
    "\n",
    "# create time series from dataset\n",
    "def create_sliding_windows(data, lag=1):\n",
    "    X = []\n",
    "    y = []\n",
    "    for i in range(len(data)-lag-1):\n",
    "        cek = data[i:(i+lag),0]\n",
    "        X.append(cek)\n",
    "        y.append(data[i+lag,0])\n",
    "    return np.array(X), np.array(y)\n",
    "\n",
    "\n",
    "lag = 3\n",
    "X_train, y_train = create_sliding_windows(train, lag)\n",
    "y_train = np.reshape(y_train, (len(y_train), 1))\n",
    "X_val, y_val = create_sliding_windows(validation, lag)\n",
    "X_test, y_test = create_sliding_windows(test, lag)\n"
   ]
  },
  {
   "cell_type": "code",
   "execution_count": 4,
   "metadata": {},
   "outputs": [
    {
     "data": {
      "text/plain": [
       "array([0.81492186, 0.8707032 , 0.8682809 ], dtype=float32)"
      ]
     },
     "execution_count": 4,
     "metadata": {},
     "output_type": "execute_result"
    }
   ],
   "source": [
    "X_train[0]"
   ]
  },
  {
   "cell_type": "code",
   "execution_count": null,
   "metadata": {},
   "outputs": [
    {
     "name": "stdout",
     "output_type": "stream",
     "text": [
      "[START] Pre-training step:\n",
      ">> Epoch 1 finished \tRBM Reconstruction error 0.399733\n",
      ">> Epoch 2 finished \tRBM Reconstruction error 0.387303\n",
      ">> Epoch 3 finished \tRBM Reconstruction error 0.375303\n",
      ">> Epoch 4 finished \tRBM Reconstruction error 0.363734\n",
      ">> Epoch 5 finished \tRBM Reconstruction error 0.352454\n",
      ">> Epoch 6 finished \tRBM Reconstruction error 0.341538\n",
      ">> Epoch 7 finished \tRBM Reconstruction error 0.331075\n",
      ">> Epoch 8 finished \tRBM Reconstruction error 0.320914\n",
      ">> Epoch 9 finished \tRBM Reconstruction error 0.310977\n",
      ">> Epoch 10 finished \tRBM Reconstruction error 0.301488\n",
      ">> Epoch 11 finished \tRBM Reconstruction error 0.292312\n",
      ">> Epoch 12 finished \tRBM Reconstruction error 0.283423\n",
      ">> Epoch 13 finished \tRBM Reconstruction error 0.274745\n",
      ">> Epoch 14 finished \tRBM Reconstruction error 0.266413\n",
      ">> Epoch 15 finished \tRBM Reconstruction error 0.258465\n",
      ">> Epoch 16 finished \tRBM Reconstruction error 0.250727\n",
      ">> Epoch 17 finished \tRBM Reconstruction error 0.243442\n",
      ">> Epoch 18 finished \tRBM Reconstruction error 0.236286\n",
      ">> Epoch 19 finished \tRBM Reconstruction error 0.229333\n",
      ">> Epoch 20 finished \tRBM Reconstruction error 0.222780\n",
      ">> Epoch 21 finished \tRBM Reconstruction error 0.216524\n",
      ">> Epoch 22 finished \tRBM Reconstruction error 0.210263\n",
      ">> Epoch 23 finished \tRBM Reconstruction error 0.204336\n",
      ">> Epoch 24 finished \tRBM Reconstruction error 0.198574\n",
      ">> Epoch 25 finished \tRBM Reconstruction error 0.193058\n",
      ">> Epoch 26 finished \tRBM Reconstruction error 0.187789\n",
      ">> Epoch 27 finished \tRBM Reconstruction error 0.182702\n",
      ">> Epoch 28 finished \tRBM Reconstruction error 0.177802\n",
      ">> Epoch 29 finished \tRBM Reconstruction error 0.173168\n",
      ">> Epoch 30 finished \tRBM Reconstruction error 0.168592\n",
      ">> Epoch 1 finished \tRBM Reconstruction error 0.167680\n",
      ">> Epoch 2 finished \tRBM Reconstruction error 0.162493\n",
      ">> Epoch 3 finished \tRBM Reconstruction error 0.157458\n",
      ">> Epoch 4 finished \tRBM Reconstruction error 0.152606\n",
      ">> Epoch 5 finished \tRBM Reconstruction error 0.147882\n",
      ">> Epoch 6 finished \tRBM Reconstruction error 0.143322\n",
      ">> Epoch 7 finished \tRBM Reconstruction error 0.138893\n",
      ">> Epoch 8 finished \tRBM Reconstruction error 0.134621\n",
      ">> Epoch 9 finished \tRBM Reconstruction error 0.130485\n",
      ">> Epoch 10 finished \tRBM Reconstruction error 0.126498\n",
      ">> Epoch 11 finished \tRBM Reconstruction error 0.122628\n",
      ">> Epoch 12 finished \tRBM Reconstruction error 0.118880\n",
      ">> Epoch 13 finished \tRBM Reconstruction error 0.115234\n",
      ">> Epoch 14 finished \tRBM Reconstruction error 0.111728\n",
      ">> Epoch 15 finished \tRBM Reconstruction error 0.108349\n",
      ">> Epoch 16 finished \tRBM Reconstruction error 0.105072\n",
      ">> Epoch 17 finished \tRBM Reconstruction error 0.101912\n",
      ">> Epoch 18 finished \tRBM Reconstruction error 0.098829\n",
      ">> Epoch 19 finished \tRBM Reconstruction error 0.095865\n",
      ">> Epoch 20 finished \tRBM Reconstruction error 0.092982\n",
      ">> Epoch 21 finished \tRBM Reconstruction error 0.090196\n",
      ">> Epoch 22 finished \tRBM Reconstruction error 0.087511\n",
      ">> Epoch 23 finished \tRBM Reconstruction error 0.084912\n",
      ">> Epoch 24 finished \tRBM Reconstruction error 0.082390\n",
      ">> Epoch 25 finished \tRBM Reconstruction error 0.079953\n",
      ">> Epoch 26 finished \tRBM Reconstruction error 0.077601\n",
      ">> Epoch 27 finished \tRBM Reconstruction error 0.075332\n",
      ">> Epoch 28 finished \tRBM Reconstruction error 0.073130\n",
      ">> Epoch 29 finished \tRBM Reconstruction error 0.071002\n",
      ">> Epoch 30 finished \tRBM Reconstruction error 0.068929\n",
      "[END] Pre-training step\n",
      "[START] Fine tuning step:\n",
      ">> Epoch 1 finished \tANN training loss 0.377489 \tANN validation loss 0.370362\n",
      ">> Epoch 2 finished \tANN training loss 0.361053 \tANN validation loss 0.352586\n",
      ">> Epoch 3 finished \tANN training loss 0.345252 \tANN validation loss 0.335480\n",
      ">> Epoch 4 finished \tANN training loss 0.331437 \tANN validation loss 0.319064\n",
      ">> Epoch 5 finished \tANN training loss 0.316360 \tANN validation loss 0.303640\n",
      ">> Epoch 6 finished \tANN training loss 0.304383 \tANN validation loss 0.289107\n",
      ">> Epoch 7 finished \tANN training loss 0.290927 \tANN validation loss 0.275341\n",
      ">> Epoch 8 finished \tANN training loss 0.279120 \tANN validation loss 0.262303\n",
      ">> Epoch 9 finished \tANN training loss 0.267285 \tANN validation loss 0.249960\n",
      ">> Epoch 10 finished \tANN training loss 0.256543 \tANN validation loss 0.238266\n",
      ">> Epoch 11 finished \tANN training loss 0.247743 \tANN validation loss 0.227210\n",
      ">> Epoch 12 finished \tANN training loss 0.236446 \tANN validation loss 0.216763\n",
      ">> Epoch 13 finished \tANN training loss 0.227782 \tANN validation loss 0.206900\n",
      ">> Epoch 14 finished \tANN training loss 0.218357 \tANN validation loss 0.197557\n",
      ">> Epoch 15 finished \tANN training loss 0.210261 \tANN validation loss 0.188682\n",
      ">> Epoch 16 finished \tANN training loss 0.201703 \tANN validation loss 0.180291\n",
      ">> Epoch 17 finished \tANN training loss 0.195531 \tANN validation loss 0.172304\n",
      ">> Epoch 18 finished \tANN training loss 0.186902 \tANN validation loss 0.164686\n",
      ">> Epoch 19 finished \tANN training loss 0.180235 \tANN validation loss 0.157459\n",
      ">> Epoch 20 finished \tANN training loss 0.173673 \tANN validation loss 0.150563\n",
      ">> Epoch 21 finished \tANN training loss 0.167962 \tANN validation loss 0.144039\n",
      ">> Epoch 22 finished \tANN training loss 0.161735 \tANN validation loss 0.137853\n",
      ">> Epoch 23 finished \tANN training loss 0.156958 \tANN validation loss 0.131997\n",
      ">> Epoch 24 finished \tANN training loss 0.150652 \tANN validation loss 0.126416\n",
      ">> Epoch 25 finished \tANN training loss 0.145328 \tANN validation loss 0.121151\n",
      ">> Epoch 26 finished \tANN training loss 0.140098 \tANN validation loss 0.116142\n",
      ">> Epoch 27 finished \tANN training loss 0.135877 \tANN validation loss 0.111351\n",
      ">> Epoch 28 finished \tANN training loss 0.131100 \tANN validation loss 0.106803\n",
      ">> Epoch 29 finished \tANN training loss 0.126395 \tANN validation loss 0.102467\n",
      ">> Epoch 30 finished \tANN training loss 0.122360 \tANN validation loss 0.098342\n",
      ">> Epoch 31 finished \tANN training loss 0.118887 \tANN validation loss 0.094424\n",
      ">> Epoch 32 finished \tANN training loss 0.115213 \tANN validation loss 0.090696\n",
      ">> Epoch 33 finished \tANN training loss 0.112211 \tANN validation loss 0.087144\n",
      ">> Epoch 34 finished \tANN training loss 0.108057 \tANN validation loss 0.083770\n",
      ">> Epoch 35 finished \tANN training loss 0.105320 \tANN validation loss 0.080556\n",
      ">> Epoch 36 finished \tANN training loss 0.101863 \tANN validation loss 0.077498\n",
      ">> Epoch 37 finished \tANN training loss 0.098840 \tANN validation loss 0.074589\n",
      ">> Epoch 38 finished \tANN training loss 0.095832 \tANN validation loss 0.071827\n",
      ">> Epoch 39 finished \tANN training loss 0.093976 \tANN validation loss 0.069196\n",
      ">> Epoch 40 finished \tANN training loss 0.091438 \tANN validation loss 0.066687\n",
      ">> Epoch 41 finished \tANN training loss 0.088117 \tANN validation loss 0.064297\n",
      ">> Epoch 42 finished \tANN training loss 0.085777 \tANN validation loss 0.062034\n",
      ">> Epoch 43 finished \tANN training loss 0.083015 \tANN validation loss 0.059872\n",
      ">> Epoch 44 finished \tANN training loss 0.081104 \tANN validation loss 0.057819\n",
      ">> Epoch 45 finished \tANN training loss 0.078915 \tANN validation loss 0.055868\n",
      ">> Epoch 46 finished \tANN training loss 0.077120 \tANN validation loss 0.054021\n",
      ">> Epoch 47 finished \tANN training loss 0.076716 \tANN validation loss 0.052266\n",
      ">> Epoch 48 finished \tANN training loss 0.074879 \tANN validation loss 0.050600\n",
      ">> Epoch 49 finished \tANN training loss 0.071585 \tANN validation loss 0.049007\n",
      ">> Epoch 50 finished \tANN training loss 0.070907 \tANN validation loss 0.047492\n",
      ">> Epoch 51 finished \tANN training loss 0.068726 \tANN validation loss 0.046045\n",
      ">> Epoch 52 finished \tANN training loss 0.067857 \tANN validation loss 0.044677\n",
      ">> Epoch 53 finished \tANN training loss 0.066631 \tANN validation loss 0.043380\n",
      ">> Epoch 54 finished \tANN training loss 0.064564 \tANN validation loss 0.042147\n",
      ">> Epoch 55 finished \tANN training loss 0.063972 \tANN validation loss 0.040965\n",
      ">> Epoch 56 finished \tANN training loss 0.062445 \tANN validation loss 0.039847\n",
      ">> Epoch 57 finished \tANN training loss 0.061341 \tANN validation loss 0.038787\n",
      ">> Epoch 58 finished \tANN training loss 0.060294 \tANN validation loss 0.037780\n",
      ">> Epoch 59 finished \tANN training loss 0.059795 \tANN validation loss 0.036827\n",
      ">> Epoch 60 finished \tANN training loss 0.057992 \tANN validation loss 0.035926\n",
      ">> Epoch 61 finished \tANN training loss 0.056792 \tANN validation loss 0.035080\n",
      ">> Epoch 62 finished \tANN training loss 0.055354 \tANN validation loss 0.034263\n",
      ">> Epoch 63 finished \tANN training loss 0.054964 \tANN validation loss 0.033493\n",
      ">> Epoch 64 finished \tANN training loss 0.054741 \tANN validation loss 0.032761\n",
      ">> Epoch 65 finished \tANN training loss 0.053666 \tANN validation loss 0.032064\n",
      ">> Epoch 66 finished \tANN training loss 0.053334 \tANN validation loss 0.031413\n",
      ">> Epoch 67 finished \tANN training loss 0.051589 \tANN validation loss 0.030791\n",
      ">> Epoch 68 finished \tANN training loss 0.050654 \tANN validation loss 0.030202\n"
     ]
    }
   ],
   "source": [
    "# Training\n",
    "regressor = SupervisedDBNRegression(hidden_layers_structure=[30, 40],\n",
    "                                    optimization_algorithm='sgd',\n",
    "                                    learning_rate_rbm=0.001,\n",
    "                                    learning_rate=0.001,\n",
    "                                    n_epochs_rbm=30,\n",
    "                                    n_iter_backprop=100,\n",
    "                                    batch_size=32,\n",
    "                                    activation_function='relu',\n",
    "                                    dropout_p=0.2,\n",
    "                                    train_optimization_algorithm='sgd')\n",
    "regressor.fit_and_validate(X_train, y_train, X_val, y_val)\n",
    "\n",
    "# Save the model\n",
    "regressor.save('model.pkl')\n",
    "\n",
    "# prediction\n",
    "y_pred = regressor.predict(X_test)"
   ]
  },
  {
   "cell_type": "code",
   "execution_count": 9,
   "metadata": {},
   "outputs": [
    {
     "data": {
      "image/png": "[encoded data removed]",
      "text/plain": [
       "<matplotlib.figure.Figure at 0x1a182e4ba8>"
      ]
     },
     "metadata": {},
     "output_type": "display_data"
    }
   ],
   "source": [
    "plt.plot(regressor.train_loss)\n",
    "plt.plot(regressor.validation_loss)\n",
    "plt.title('model loss')\n",
    "plt.ylabel('loss')\n",
    "plt.xlabel('epoch')\n",
    "plt.legend(['train', 'validation'], loc='upper left')\n",
    "plt.show()"
   ]
  },
  {
   "cell_type": "code",
   "execution_count": null,
   "metadata": {},
   "outputs": [],
   "source": []
  }
 ],
 "metadata": {
  "kernelspec": {
   "display_name": "Python 3",
   "language": "python",
   "name": "python3"
  },
  "language_info": {
   "codemirror_mode": {
    "name": "ipython",
    "version": 3
   },
   "file_extension": ".py",
   "mimetype": "text/x-python",
   "name": "python",
   "nbconvert_exporter": "python",
   "pygments_lexer": "ipython3",
   "version": "3.6.4"
  }
 },
 "nbformat": 4,
 "nbformat_minor": 2
}
